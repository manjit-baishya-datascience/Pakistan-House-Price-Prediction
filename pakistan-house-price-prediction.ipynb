{
 "cells": [
  {
   "cell_type": "markdown",
   "id": "78dbf360",
   "metadata": {
    "papermill": {
     "duration": 0.010453,
     "end_time": "2024-06-19T17:02:05.198159",
     "exception": false,
     "start_time": "2024-06-19T17:02:05.187706",
     "status": "completed"
    },
    "tags": []
   },
   "source": [
    "# **Pakistan House Price Prediction**\n",
    "---"
   ]
  },
  {
   "cell_type": "markdown",
   "id": "90b10393",
   "metadata": {
    "papermill": {
     "duration": 0.011464,
     "end_time": "2024-06-19T17:02:05.220668",
     "exception": false,
     "start_time": "2024-06-19T17:02:05.209204",
     "status": "completed"
    },
    "tags": []
   },
   "source": [
    "## **Importing Data**"
   ]
  },
  {
   "cell_type": "code",
   "execution_count": 1,
   "id": "9ea2f448",
   "metadata": {
    "_cell_guid": "b1076dfc-b9ad-4769-8c92-a6c4dae69d19",
    "_uuid": "8f2839f25d086af736a60e9eeb907d3b93b6e0e5",
    "execution": {
     "iopub.execute_input": "2024-06-19T17:02:05.244461Z",
     "iopub.status.busy": "2024-06-19T17:02:05.244054Z",
     "iopub.status.idle": "2024-06-19T17:02:06.293824Z",
     "shell.execute_reply": "2024-06-19T17:02:06.292325Z"
    },
    "papermill": {
     "duration": 1.065178,
     "end_time": "2024-06-19T17:02:06.297009",
     "exception": false,
     "start_time": "2024-06-19T17:02:05.231831",
     "status": "completed"
    },
    "tags": []
   },
   "outputs": [],
   "source": [
    "# importing data and libraries\n",
    "import numpy as np\n",
    "import pandas as pd\n",
    "\n",
    "# disable warnings\n",
    "import warnings\n",
    "warnings. filterwarnings('ignore')"
   ]
  },
  {
   "cell_type": "code",
   "execution_count": 3,
   "id": "c2e21156",
   "metadata": {
    "execution": {
     "iopub.execute_input": "2024-06-19T17:02:06.320949Z",
     "iopub.status.busy": "2024-06-19T17:02:06.320326Z",
     "iopub.status.idle": "2024-06-19T17:02:06.602084Z",
     "shell.execute_reply": "2024-06-19T17:02:06.600949Z"
    },
    "papermill": {
     "duration": 0.296172,
     "end_time": "2024-06-19T17:02:06.604798",
     "exception": false,
     "start_time": "2024-06-19T17:02:06.308626",
     "status": "completed"
    },
    "tags": []
   },
   "outputs": [
    {
     "data": {
      "text/html": [
       "<div>\n",
       "<style scoped>\n",
       "    .dataframe tbody tr th:only-of-type {\n",
       "        vertical-align: middle;\n",
       "    }\n",
       "\n",
       "    .dataframe tbody tr th {\n",
       "        vertical-align: top;\n",
       "    }\n",
       "\n",
       "    .dataframe thead th {\n",
       "        text-align: right;\n",
       "    }\n",
       "</style>\n",
       "<table border=\"1\" class=\"dataframe\">\n",
       "  <thead>\n",
       "    <tr style=\"text-align: right;\">\n",
       "      <th></th>\n",
       "      <th>Unnamed: 0</th>\n",
       "      <th>property_type</th>\n",
       "      <th>price</th>\n",
       "      <th>location</th>\n",
       "      <th>city</th>\n",
       "      <th>baths</th>\n",
       "      <th>purpose</th>\n",
       "      <th>bedrooms</th>\n",
       "      <th>Area_in_Marla</th>\n",
       "    </tr>\n",
       "  </thead>\n",
       "  <tbody>\n",
       "    <tr>\n",
       "      <th>0</th>\n",
       "      <td>0</td>\n",
       "      <td>Flat</td>\n",
       "      <td>10000000</td>\n",
       "      <td>G-10</td>\n",
       "      <td>Islamabad</td>\n",
       "      <td>2</td>\n",
       "      <td>For Sale</td>\n",
       "      <td>2</td>\n",
       "      <td>4.0</td>\n",
       "    </tr>\n",
       "    <tr>\n",
       "      <th>1</th>\n",
       "      <td>1</td>\n",
       "      <td>Flat</td>\n",
       "      <td>6900000</td>\n",
       "      <td>E-11</td>\n",
       "      <td>Islamabad</td>\n",
       "      <td>3</td>\n",
       "      <td>For Sale</td>\n",
       "      <td>3</td>\n",
       "      <td>5.6</td>\n",
       "    </tr>\n",
       "    <tr>\n",
       "      <th>2</th>\n",
       "      <td>2</td>\n",
       "      <td>House</td>\n",
       "      <td>16500000</td>\n",
       "      <td>G-15</td>\n",
       "      <td>Islamabad</td>\n",
       "      <td>6</td>\n",
       "      <td>For Sale</td>\n",
       "      <td>5</td>\n",
       "      <td>8.0</td>\n",
       "    </tr>\n",
       "    <tr>\n",
       "      <th>3</th>\n",
       "      <td>3</td>\n",
       "      <td>House</td>\n",
       "      <td>43500000</td>\n",
       "      <td>Bani Gala</td>\n",
       "      <td>Islamabad</td>\n",
       "      <td>4</td>\n",
       "      <td>For Sale</td>\n",
       "      <td>4</td>\n",
       "      <td>40.0</td>\n",
       "    </tr>\n",
       "    <tr>\n",
       "      <th>4</th>\n",
       "      <td>4</td>\n",
       "      <td>House</td>\n",
       "      <td>7000000</td>\n",
       "      <td>DHA Defence</td>\n",
       "      <td>Islamabad</td>\n",
       "      <td>3</td>\n",
       "      <td>For Sale</td>\n",
       "      <td>3</td>\n",
       "      <td>8.0</td>\n",
       "    </tr>\n",
       "  </tbody>\n",
       "</table>\n",
       "</div>"
      ],
      "text/plain": [
       "   Unnamed: 0 property_type     price     location       city  baths  \\\n",
       "0           0          Flat  10000000         G-10  Islamabad      2   \n",
       "1           1          Flat   6900000         E-11  Islamabad      3   \n",
       "2           2         House  16500000         G-15  Islamabad      6   \n",
       "3           3         House  43500000    Bani Gala  Islamabad      4   \n",
       "4           4         House   7000000  DHA Defence  Islamabad      3   \n",
       "\n",
       "    purpose  bedrooms  Area_in_Marla  \n",
       "0  For Sale         2            4.0  \n",
       "1  For Sale         3            5.6  \n",
       "2  For Sale         5            8.0  \n",
       "3  For Sale         4           40.0  \n",
       "4  For Sale         3            8.0  "
      ]
     },
     "execution_count": 3,
     "metadata": {},
     "output_type": "execute_result"
    }
   ],
   "source": [
    "# reading data\n",
    "df = pd.read_csv('house_prices.csv')\n",
    "df.head()"
   ]
  },
  {
   "cell_type": "markdown",
   "id": "3559b42f",
   "metadata": {
    "papermill": {
     "duration": 0.011179,
     "end_time": "2024-06-19T17:02:06.627240",
     "exception": false,
     "start_time": "2024-06-19T17:02:06.616061",
     "status": "completed"
    },
    "tags": []
   },
   "source": [
    "## **Data Cleaning and Preprocessing**"
   ]
  },
  {
   "cell_type": "code",
   "execution_count": 4,
   "id": "f5338ea7",
   "metadata": {
    "execution": {
     "iopub.execute_input": "2024-06-19T17:02:06.651364Z",
     "iopub.status.busy": "2024-06-19T17:02:06.650990Z",
     "iopub.status.idle": "2024-06-19T17:02:06.669945Z",
     "shell.execute_reply": "2024-06-19T17:02:06.668360Z"
    },
    "papermill": {
     "duration": 0.03438,
     "end_time": "2024-06-19T17:02:06.672849",
     "exception": false,
     "start_time": "2024-06-19T17:02:06.638469",
     "status": "completed"
    },
    "tags": []
   },
   "outputs": [],
   "source": [
    "# dropping unecessary columns\n",
    "df.drop([\"Unnamed: 0\"], axis = 1, inplace = True)"
   ]
  },
  {
   "cell_type": "markdown",
   "id": "49bb6ad1",
   "metadata": {
    "papermill": {
     "duration": 0.010958,
     "end_time": "2024-06-19T17:02:06.694944",
     "exception": false,
     "start_time": "2024-06-19T17:02:06.683986",
     "status": "completed"
    },
    "tags": []
   },
   "source": [
    "### **Checking for null values**"
   ]
  },
  {
   "cell_type": "code",
   "execution_count": 5,
   "id": "b72e9fc0",
   "metadata": {
    "execution": {
     "iopub.execute_input": "2024-06-19T17:02:06.719202Z",
     "iopub.status.busy": "2024-06-19T17:02:06.718829Z",
     "iopub.status.idle": "2024-06-19T17:02:06.773362Z",
     "shell.execute_reply": "2024-06-19T17:02:06.772250Z"
    },
    "papermill": {
     "duration": 0.069584,
     "end_time": "2024-06-19T17:02:06.775866",
     "exception": false,
     "start_time": "2024-06-19T17:02:06.706282",
     "status": "completed"
    },
    "tags": []
   },
   "outputs": [
    {
     "data": {
      "text/plain": [
       "property_type    0\n",
       "price            0\n",
       "location         0\n",
       "city             0\n",
       "baths            0\n",
       "purpose          0\n",
       "bedrooms         0\n",
       "Area_in_Marla    0\n",
       "dtype: int64"
      ]
     },
     "execution_count": 5,
     "metadata": {},
     "output_type": "execute_result"
    }
   ],
   "source": [
    "df.isna().sum()"
   ]
  },
  {
   "cell_type": "markdown",
   "id": "05ab2368",
   "metadata": {
    "papermill": {
     "duration": 0.010367,
     "end_time": "2024-06-19T17:02:06.796799",
     "exception": false,
     "start_time": "2024-06-19T17:02:06.786432",
     "status": "completed"
    },
    "tags": []
   },
   "source": [
    "### **Dropping duplicate values**"
   ]
  },
  {
   "cell_type": "code",
   "execution_count": 6,
   "id": "5a5494b0",
   "metadata": {
    "execution": {
     "iopub.execute_input": "2024-06-19T17:02:06.820855Z",
     "iopub.status.busy": "2024-06-19T17:02:06.820448Z",
     "iopub.status.idle": "2024-06-19T17:02:06.889669Z",
     "shell.execute_reply": "2024-06-19T17:02:06.888476Z"
    },
    "papermill": {
     "duration": 0.08492,
     "end_time": "2024-06-19T17:02:06.893528",
     "exception": false,
     "start_time": "2024-06-19T17:02:06.808608",
     "status": "completed"
    },
    "tags": []
   },
   "outputs": [],
   "source": [
    "df = df.drop_duplicates().reset_index(drop = True)"
   ]
  },
  {
   "cell_type": "markdown",
   "id": "dcd0c282",
   "metadata": {
    "papermill": {
     "duration": 0.01089,
     "end_time": "2024-06-19T17:02:06.915040",
     "exception": false,
     "start_time": "2024-06-19T17:02:06.904150",
     "status": "completed"
    },
    "tags": []
   },
   "source": [
    "### **Feature Engineering**"
   ]
  },
  {
   "cell_type": "code",
   "execution_count": 7,
   "id": "d02d4f19",
   "metadata": {
    "execution": {
     "iopub.execute_input": "2024-06-19T17:02:06.938134Z",
     "iopub.status.busy": "2024-06-19T17:02:06.937746Z",
     "iopub.status.idle": "2024-06-19T17:02:06.959428Z",
     "shell.execute_reply": "2024-06-19T17:02:06.958295Z"
    },
    "papermill": {
     "duration": 0.036585,
     "end_time": "2024-06-19T17:02:06.962037",
     "exception": false,
     "start_time": "2024-06-19T17:02:06.925452",
     "status": "completed"
    },
    "tags": []
   },
   "outputs": [
    {
     "data": {
      "text/html": [
       "<div>\n",
       "<style scoped>\n",
       "    .dataframe tbody tr th:only-of-type {\n",
       "        vertical-align: middle;\n",
       "    }\n",
       "\n",
       "    .dataframe tbody tr th {\n",
       "        vertical-align: top;\n",
       "    }\n",
       "\n",
       "    .dataframe thead th {\n",
       "        text-align: right;\n",
       "    }\n",
       "</style>\n",
       "<table border=\"1\" class=\"dataframe\">\n",
       "  <thead>\n",
       "    <tr style=\"text-align: right;\">\n",
       "      <th></th>\n",
       "      <th>property_type</th>\n",
       "      <th>price</th>\n",
       "      <th>location</th>\n",
       "      <th>city</th>\n",
       "      <th>baths</th>\n",
       "      <th>purpose</th>\n",
       "      <th>bedrooms</th>\n",
       "      <th>area</th>\n",
       "    </tr>\n",
       "  </thead>\n",
       "  <tbody>\n",
       "    <tr>\n",
       "      <th>0</th>\n",
       "      <td>Flat</td>\n",
       "      <td>10000000</td>\n",
       "      <td>G-10</td>\n",
       "      <td>Islamabad</td>\n",
       "      <td>2</td>\n",
       "      <td>For Sale</td>\n",
       "      <td>2</td>\n",
       "      <td>1089.0</td>\n",
       "    </tr>\n",
       "    <tr>\n",
       "      <th>1</th>\n",
       "      <td>Flat</td>\n",
       "      <td>6900000</td>\n",
       "      <td>E-11</td>\n",
       "      <td>Islamabad</td>\n",
       "      <td>3</td>\n",
       "      <td>For Sale</td>\n",
       "      <td>3</td>\n",
       "      <td>1524.6</td>\n",
       "    </tr>\n",
       "    <tr>\n",
       "      <th>2</th>\n",
       "      <td>House</td>\n",
       "      <td>16500000</td>\n",
       "      <td>G-15</td>\n",
       "      <td>Islamabad</td>\n",
       "      <td>6</td>\n",
       "      <td>For Sale</td>\n",
       "      <td>5</td>\n",
       "      <td>2178.0</td>\n",
       "    </tr>\n",
       "    <tr>\n",
       "      <th>3</th>\n",
       "      <td>House</td>\n",
       "      <td>43500000</td>\n",
       "      <td>Bani Gala</td>\n",
       "      <td>Islamabad</td>\n",
       "      <td>4</td>\n",
       "      <td>For Sale</td>\n",
       "      <td>4</td>\n",
       "      <td>10890.0</td>\n",
       "    </tr>\n",
       "    <tr>\n",
       "      <th>4</th>\n",
       "      <td>House</td>\n",
       "      <td>7000000</td>\n",
       "      <td>DHA Defence</td>\n",
       "      <td>Islamabad</td>\n",
       "      <td>3</td>\n",
       "      <td>For Sale</td>\n",
       "      <td>3</td>\n",
       "      <td>2178.0</td>\n",
       "    </tr>\n",
       "  </tbody>\n",
       "</table>\n",
       "</div>"
      ],
      "text/plain": [
       "  property_type     price     location       city  baths   purpose  bedrooms  \\\n",
       "0          Flat  10000000         G-10  Islamabad      2  For Sale         2   \n",
       "1          Flat   6900000         E-11  Islamabad      3  For Sale         3   \n",
       "2         House  16500000         G-15  Islamabad      6  For Sale         5   \n",
       "3         House  43500000    Bani Gala  Islamabad      4  For Sale         4   \n",
       "4         House   7000000  DHA Defence  Islamabad      3  For Sale         3   \n",
       "\n",
       "      area  \n",
       "0   1089.0  \n",
       "1   1524.6  \n",
       "2   2178.0  \n",
       "3  10890.0  \n",
       "4   2178.0  "
      ]
     },
     "execution_count": 7,
     "metadata": {},
     "output_type": "execute_result"
    }
   ],
   "source": [
    "# converting marla to area in sq ft\n",
    "df['area'] = df['Area_in_Marla'] * 272.25\n",
    "df.drop('Area_in_Marla',axis=1, inplace = True)\n",
    "\n",
    "df.head()"
   ]
  },
  {
   "cell_type": "code",
   "execution_count": 8,
   "id": "e9be4d93",
   "metadata": {
    "execution": {
     "iopub.execute_input": "2024-06-19T17:02:06.985277Z",
     "iopub.status.busy": "2024-06-19T17:02:06.984876Z",
     "iopub.status.idle": "2024-06-19T17:02:07.004519Z",
     "shell.execute_reply": "2024-06-19T17:02:07.003241Z"
    },
    "papermill": {
     "duration": 0.034418,
     "end_time": "2024-06-19T17:02:07.007238",
     "exception": false,
     "start_time": "2024-06-19T17:02:06.972820",
     "status": "completed"
    },
    "tags": []
   },
   "outputs": [
    {
     "data": {
      "text/html": [
       "<div>\n",
       "<style scoped>\n",
       "    .dataframe tbody tr th:only-of-type {\n",
       "        vertical-align: middle;\n",
       "    }\n",
       "\n",
       "    .dataframe tbody tr th {\n",
       "        vertical-align: top;\n",
       "    }\n",
       "\n",
       "    .dataframe thead th {\n",
       "        text-align: right;\n",
       "    }\n",
       "</style>\n",
       "<table border=\"1\" class=\"dataframe\">\n",
       "  <thead>\n",
       "    <tr style=\"text-align: right;\">\n",
       "      <th></th>\n",
       "      <th>type</th>\n",
       "      <th>location</th>\n",
       "      <th>city</th>\n",
       "      <th>purpose</th>\n",
       "      <th>baths</th>\n",
       "      <th>beds</th>\n",
       "      <th>area</th>\n",
       "      <th>price</th>\n",
       "    </tr>\n",
       "  </thead>\n",
       "  <tbody>\n",
       "    <tr>\n",
       "      <th>0</th>\n",
       "      <td>Flat</td>\n",
       "      <td>G-10</td>\n",
       "      <td>Islamabad</td>\n",
       "      <td>For Sale</td>\n",
       "      <td>2</td>\n",
       "      <td>2</td>\n",
       "      <td>1089.0</td>\n",
       "      <td>10000000</td>\n",
       "    </tr>\n",
       "    <tr>\n",
       "      <th>1</th>\n",
       "      <td>Flat</td>\n",
       "      <td>E-11</td>\n",
       "      <td>Islamabad</td>\n",
       "      <td>For Sale</td>\n",
       "      <td>3</td>\n",
       "      <td>3</td>\n",
       "      <td>1524.6</td>\n",
       "      <td>6900000</td>\n",
       "    </tr>\n",
       "    <tr>\n",
       "      <th>2</th>\n",
       "      <td>House</td>\n",
       "      <td>G-15</td>\n",
       "      <td>Islamabad</td>\n",
       "      <td>For Sale</td>\n",
       "      <td>6</td>\n",
       "      <td>5</td>\n",
       "      <td>2178.0</td>\n",
       "      <td>16500000</td>\n",
       "    </tr>\n",
       "    <tr>\n",
       "      <th>3</th>\n",
       "      <td>House</td>\n",
       "      <td>Bani Gala</td>\n",
       "      <td>Islamabad</td>\n",
       "      <td>For Sale</td>\n",
       "      <td>4</td>\n",
       "      <td>4</td>\n",
       "      <td>10890.0</td>\n",
       "      <td>43500000</td>\n",
       "    </tr>\n",
       "    <tr>\n",
       "      <th>4</th>\n",
       "      <td>House</td>\n",
       "      <td>DHA Defence</td>\n",
       "      <td>Islamabad</td>\n",
       "      <td>For Sale</td>\n",
       "      <td>3</td>\n",
       "      <td>3</td>\n",
       "      <td>2178.0</td>\n",
       "      <td>7000000</td>\n",
       "    </tr>\n",
       "  </tbody>\n",
       "</table>\n",
       "</div>"
      ],
      "text/plain": [
       "    type     location       city   purpose  baths  beds     area     price\n",
       "0   Flat         G-10  Islamabad  For Sale      2     2   1089.0  10000000\n",
       "1   Flat         E-11  Islamabad  For Sale      3     3   1524.6   6900000\n",
       "2  House         G-15  Islamabad  For Sale      6     5   2178.0  16500000\n",
       "3  House    Bani Gala  Islamabad  For Sale      4     4  10890.0  43500000\n",
       "4  House  DHA Defence  Islamabad  For Sale      3     3   2178.0   7000000"
      ]
     },
     "execution_count": 8,
     "metadata": {},
     "output_type": "execute_result"
    }
   ],
   "source": [
    "# re-arranging features\n",
    "df = df[[\"property_type\", \"location\", \"city\", \"purpose\", \"baths\", \"bedrooms\", \"area\", \"price\"]]\n",
    "df.columns = [\"type\", \"location\", \"city\", \"purpose\", \"baths\", \"beds\", \"area\", \"price\"]\n",
    "\n",
    "df.head()"
   ]
  },
  {
   "cell_type": "markdown",
   "id": "b2264829",
   "metadata": {
    "papermill": {
     "duration": 0.010739,
     "end_time": "2024-06-19T17:02:07.029209",
     "exception": false,
     "start_time": "2024-06-19T17:02:07.018470",
     "status": "completed"
    },
    "tags": []
   },
   "source": [
    "### **Categorizing Features**"
   ]
  },
  {
   "cell_type": "code",
   "execution_count": 9,
   "id": "9e992c90",
   "metadata": {
    "execution": {
     "iopub.execute_input": "2024-06-19T17:02:07.052821Z",
     "iopub.status.busy": "2024-06-19T17:02:07.052407Z",
     "iopub.status.idle": "2024-06-19T17:02:07.057919Z",
     "shell.execute_reply": "2024-06-19T17:02:07.056782Z"
    },
    "papermill": {
     "duration": 0.020259,
     "end_time": "2024-06-19T17:02:07.060394",
     "exception": false,
     "start_time": "2024-06-19T17:02:07.040135",
     "status": "completed"
    },
    "tags": []
   },
   "outputs": [],
   "source": [
    "# categorical columns\n",
    "cat_cols = [\"type\", \"location\", \"city\", \"purpose\"]\n",
    "\n",
    "# numerical columns\n",
    "num_cols = [\"area\", \"baths\", \"beds\"]"
   ]
  },
  {
   "cell_type": "code",
   "execution_count": 10,
   "id": "241b5c00",
   "metadata": {
    "execution": {
     "iopub.execute_input": "2024-06-19T17:02:07.084834Z",
     "iopub.status.busy": "2024-06-19T17:02:07.084426Z",
     "iopub.status.idle": "2024-06-19T17:02:08.540398Z",
     "shell.execute_reply": "2024-06-19T17:02:08.539107Z"
    },
    "papermill": {
     "duration": 1.471964,
     "end_time": "2024-06-19T17:02:08.543679",
     "exception": false,
     "start_time": "2024-06-19T17:02:07.071715",
     "status": "completed"
    },
    "tags": []
   },
   "outputs": [
    {
     "data": {
      "text/html": [
       "<div>\n",
       "<style scoped>\n",
       "    .dataframe tbody tr th:only-of-type {\n",
       "        vertical-align: middle;\n",
       "    }\n",
       "\n",
       "    .dataframe tbody tr th {\n",
       "        vertical-align: top;\n",
       "    }\n",
       "\n",
       "    .dataframe thead th {\n",
       "        text-align: right;\n",
       "    }\n",
       "</style>\n",
       "<table border=\"1\" class=\"dataframe\">\n",
       "  <thead>\n",
       "    <tr style=\"text-align: right;\">\n",
       "      <th></th>\n",
       "      <th>type</th>\n",
       "      <th>location</th>\n",
       "      <th>city</th>\n",
       "      <th>purpose</th>\n",
       "      <th>baths</th>\n",
       "      <th>beds</th>\n",
       "      <th>area</th>\n",
       "      <th>price</th>\n",
       "    </tr>\n",
       "  </thead>\n",
       "  <tbody>\n",
       "    <tr>\n",
       "      <th>0</th>\n",
       "      <td>1</td>\n",
       "      <td>452</td>\n",
       "      <td>1</td>\n",
       "      <td>1</td>\n",
       "      <td>2</td>\n",
       "      <td>2</td>\n",
       "      <td>1089.0</td>\n",
       "      <td>10000000</td>\n",
       "    </tr>\n",
       "    <tr>\n",
       "      <th>1</th>\n",
       "      <td>1</td>\n",
       "      <td>382</td>\n",
       "      <td>1</td>\n",
       "      <td>1</td>\n",
       "      <td>3</td>\n",
       "      <td>3</td>\n",
       "      <td>1524.6</td>\n",
       "      <td>6900000</td>\n",
       "    </tr>\n",
       "    <tr>\n",
       "      <th>2</th>\n",
       "      <td>2</td>\n",
       "      <td>457</td>\n",
       "      <td>1</td>\n",
       "      <td>1</td>\n",
       "      <td>6</td>\n",
       "      <td>5</td>\n",
       "      <td>2178.0</td>\n",
       "      <td>16500000</td>\n",
       "    </tr>\n",
       "    <tr>\n",
       "      <th>3</th>\n",
       "      <td>2</td>\n",
       "      <td>198</td>\n",
       "      <td>1</td>\n",
       "      <td>1</td>\n",
       "      <td>4</td>\n",
       "      <td>4</td>\n",
       "      <td>10890.0</td>\n",
       "      <td>43500000</td>\n",
       "    </tr>\n",
       "    <tr>\n",
       "      <th>4</th>\n",
       "      <td>2</td>\n",
       "      <td>327</td>\n",
       "      <td>1</td>\n",
       "      <td>1</td>\n",
       "      <td>3</td>\n",
       "      <td>3</td>\n",
       "      <td>2178.0</td>\n",
       "      <td>7000000</td>\n",
       "    </tr>\n",
       "  </tbody>\n",
       "</table>\n",
       "</div>"
      ],
      "text/plain": [
       "   type  location  city  purpose  baths  beds     area     price\n",
       "0     1       452     1        1      2     2   1089.0  10000000\n",
       "1     1       382     1        1      3     3   1524.6   6900000\n",
       "2     2       457     1        1      6     5   2178.0  16500000\n",
       "3     2       198     1        1      4     4  10890.0  43500000\n",
       "4     2       327     1        1      3     3   2178.0   7000000"
      ]
     },
     "execution_count": 10,
     "metadata": {},
     "output_type": "execute_result"
    }
   ],
   "source": [
    "from sklearn.preprocessing import LabelEncoder\n",
    "\n",
    "# initialize label encoder\n",
    "encoder = LabelEncoder()\n",
    "\n",
    "# apply label encoder to each column individually\n",
    "for column in df[cat_cols]:\n",
    "    df[column] = encoder.fit_transform(df[column])\n",
    "\n",
    "df.head()"
   ]
  },
  {
   "cell_type": "code",
   "execution_count": 11,
   "id": "6b4c7bee",
   "metadata": {
    "execution": {
     "iopub.execute_input": "2024-06-19T17:02:08.569337Z",
     "iopub.status.busy": "2024-06-19T17:02:08.568919Z",
     "iopub.status.idle": "2024-06-19T17:02:08.606796Z",
     "shell.execute_reply": "2024-06-19T17:02:08.605605Z"
    },
    "papermill": {
     "duration": 0.05411,
     "end_time": "2024-06-19T17:02:08.609500",
     "exception": false,
     "start_time": "2024-06-19T17:02:08.555390",
     "status": "completed"
    },
    "tags": []
   },
   "outputs": [
    {
     "data": {
      "text/html": [
       "<div>\n",
       "<style scoped>\n",
       "    .dataframe tbody tr th:only-of-type {\n",
       "        vertical-align: middle;\n",
       "    }\n",
       "\n",
       "    .dataframe tbody tr th {\n",
       "        vertical-align: top;\n",
       "    }\n",
       "\n",
       "    .dataframe thead th {\n",
       "        text-align: right;\n",
       "    }\n",
       "</style>\n",
       "<table border=\"1\" class=\"dataframe\">\n",
       "  <thead>\n",
       "    <tr style=\"text-align: right;\">\n",
       "      <th></th>\n",
       "      <th>type</th>\n",
       "      <th>location</th>\n",
       "      <th>city</th>\n",
       "      <th>purpose</th>\n",
       "      <th>baths</th>\n",
       "      <th>beds</th>\n",
       "      <th>area</th>\n",
       "      <th>price</th>\n",
       "    </tr>\n",
       "  </thead>\n",
       "  <tbody>\n",
       "    <tr>\n",
       "      <th>0</th>\n",
       "      <td>1</td>\n",
       "      <td>452</td>\n",
       "      <td>1</td>\n",
       "      <td>1</td>\n",
       "      <td>-0.980008</td>\n",
       "      <td>-1.023639</td>\n",
       "      <td>-0.563772</td>\n",
       "      <td>10000000</td>\n",
       "    </tr>\n",
       "    <tr>\n",
       "      <th>1</th>\n",
       "      <td>1</td>\n",
       "      <td>382</td>\n",
       "      <td>1</td>\n",
       "      <td>1</td>\n",
       "      <td>-0.305714</td>\n",
       "      <td>-0.256470</td>\n",
       "      <td>-0.367333</td>\n",
       "      <td>6900000</td>\n",
       "    </tr>\n",
       "    <tr>\n",
       "      <th>2</th>\n",
       "      <td>2</td>\n",
       "      <td>457</td>\n",
       "      <td>1</td>\n",
       "      <td>1</td>\n",
       "      <td>1.717169</td>\n",
       "      <td>1.277868</td>\n",
       "      <td>-0.072673</td>\n",
       "      <td>16500000</td>\n",
       "    </tr>\n",
       "    <tr>\n",
       "      <th>3</th>\n",
       "      <td>2</td>\n",
       "      <td>198</td>\n",
       "      <td>1</td>\n",
       "      <td>1</td>\n",
       "      <td>0.368580</td>\n",
       "      <td>0.510699</td>\n",
       "      <td>3.856117</td>\n",
       "      <td>43500000</td>\n",
       "    </tr>\n",
       "    <tr>\n",
       "      <th>4</th>\n",
       "      <td>2</td>\n",
       "      <td>327</td>\n",
       "      <td>1</td>\n",
       "      <td>1</td>\n",
       "      <td>-0.305714</td>\n",
       "      <td>-0.256470</td>\n",
       "      <td>-0.072673</td>\n",
       "      <td>7000000</td>\n",
       "    </tr>\n",
       "  </tbody>\n",
       "</table>\n",
       "</div>"
      ],
      "text/plain": [
       "   type  location  city  purpose     baths      beds      area     price\n",
       "0     1       452     1        1 -0.980008 -1.023639 -0.563772  10000000\n",
       "1     1       382     1        1 -0.305714 -0.256470 -0.367333   6900000\n",
       "2     2       457     1        1  1.717169  1.277868 -0.072673  16500000\n",
       "3     2       198     1        1  0.368580  0.510699  3.856117  43500000\n",
       "4     2       327     1        1 -0.305714 -0.256470 -0.072673   7000000"
      ]
     },
     "execution_count": 11,
     "metadata": {},
     "output_type": "execute_result"
    }
   ],
   "source": [
    "from sklearn.preprocessing import StandardScaler\n",
    "\n",
    "# initialize the standard scaler\n",
    "scaler = StandardScaler()\n",
    "\n",
    "# apply the standard scaler to each column individually\n",
    "for column in num_cols:\n",
    "    # reshape the column to a 2D array\n",
    "    df[column] = scaler.fit_transform(df[[column]])\n",
    "\n",
    "# display the first few rows of the dataframe\n",
    "df.head()"
   ]
  },
  {
   "cell_type": "markdown",
   "id": "f563688e",
   "metadata": {
    "papermill": {
     "duration": 0.011288,
     "end_time": "2024-06-19T17:02:08.632957",
     "exception": false,
     "start_time": "2024-06-19T17:02:08.621669",
     "status": "completed"
    },
    "tags": []
   },
   "source": [
    "### **Splitting Data into Feature and Target Variable**"
   ]
  },
  {
   "cell_type": "code",
   "execution_count": 12,
   "id": "861cecc7",
   "metadata": {
    "execution": {
     "iopub.execute_input": "2024-06-19T17:02:08.658448Z",
     "iopub.status.busy": "2024-06-19T17:02:08.658029Z",
     "iopub.status.idle": "2024-06-19T17:02:08.668171Z",
     "shell.execute_reply": "2024-06-19T17:02:08.667010Z"
    },
    "papermill": {
     "duration": 0.026408,
     "end_time": "2024-06-19T17:02:08.671049",
     "exception": false,
     "start_time": "2024-06-19T17:02:08.644641",
     "status": "completed"
    },
    "tags": []
   },
   "outputs": [],
   "source": [
    "X = df.drop('price', axis = 1)\n",
    "y = df['price']"
   ]
  },
  {
   "cell_type": "markdown",
   "id": "70cec124",
   "metadata": {
    "papermill": {
     "duration": 0.012495,
     "end_time": "2024-06-19T17:02:08.695789",
     "exception": false,
     "start_time": "2024-06-19T17:02:08.683294",
     "status": "completed"
    },
    "tags": []
   },
   "source": [
    "## **Machine Learning**"
   ]
  },
  {
   "cell_type": "markdown",
   "id": "5258851f",
   "metadata": {
    "papermill": {
     "duration": 0.012255,
     "end_time": "2024-06-19T17:02:08.721150",
     "exception": false,
     "start_time": "2024-06-19T17:02:08.708895",
     "status": "completed"
    },
    "tags": []
   },
   "source": [
    "### **Splitting Data into Test and Train**"
   ]
  },
  {
   "cell_type": "code",
   "execution_count": 13,
   "id": "c0ffe181",
   "metadata": {
    "execution": {
     "iopub.execute_input": "2024-06-19T17:02:08.746841Z",
     "iopub.status.busy": "2024-06-19T17:02:08.746414Z",
     "iopub.status.idle": "2024-06-19T17:02:08.888029Z",
     "shell.execute_reply": "2024-06-19T17:02:08.886411Z"
    },
    "papermill": {
     "duration": 0.157667,
     "end_time": "2024-06-19T17:02:08.891084",
     "exception": false,
     "start_time": "2024-06-19T17:02:08.733417",
     "status": "completed"
    },
    "tags": []
   },
   "outputs": [],
   "source": [
    "from sklearn.model_selection import train_test_split\n",
    "X_train, X_test, y_train, y_test = train_test_split(X, y, test_size=0.2, shuffle=True)"
   ]
  },
  {
   "cell_type": "markdown",
   "id": "5a48fdbb",
   "metadata": {
    "papermill": {
     "duration": 0.012203,
     "end_time": "2024-06-19T17:02:08.917895",
     "exception": false,
     "start_time": "2024-06-19T17:02:08.905692",
     "status": "completed"
    },
    "tags": []
   },
   "source": [
    "### **1. Decision Tree Regressor**"
   ]
  },
  {
   "cell_type": "code",
   "execution_count": 14,
   "id": "3809f232",
   "metadata": {
    "execution": {
     "iopub.execute_input": "2024-06-19T17:02:08.943966Z",
     "iopub.status.busy": "2024-06-19T17:02:08.943523Z",
     "iopub.status.idle": "2024-06-19T17:02:09.427356Z",
     "shell.execute_reply": "2024-06-19T17:02:09.425945Z"
    },
    "papermill": {
     "duration": 0.500984,
     "end_time": "2024-06-19T17:02:09.431085",
     "exception": false,
     "start_time": "2024-06-19T17:02:08.930101",
     "status": "completed"
    },
    "tags": []
   },
   "outputs": [
    {
     "name": "stdout",
     "output_type": "stream",
     "text": [
      "Mean Absolute Error: 2228855.187546045\n",
      "Mean Squared Error: 18942241048900.18\n",
      "Root Mean Squared Error: 4352268.494578452\n",
      "R-squared: 0.8199224828403602\n"
     ]
    }
   ],
   "source": [
    "from sklearn.tree import DecisionTreeRegressor\n",
    "from sklearn.metrics import mean_absolute_error, mean_squared_error, r2_score\n",
    "\n",
    "# Train the DecisionTreeRegressor model\n",
    "dt_model = DecisionTreeRegressor(random_state=42)\n",
    "dt_model.fit(X_train, y_train)\n",
    "\n",
    "# Predict on the test set\n",
    "y_pred = dt_model.predict(X_test)\n",
    "\n",
    "# Evaluate the model\n",
    "mae_dt = mean_absolute_error(y_test, y_pred)\n",
    "mse_dt = mean_squared_error(y_test, y_pred)\n",
    "rmse_dt = np.sqrt(mse_dt)\n",
    "r2_dt = r2_score(y_test, y_pred)\n",
    "\n",
    "print(f'Mean Absolute Error: {mae_dt}')\n",
    "print(f'Mean Squared Error: {mse_dt}')\n",
    "print(f'Root Mean Squared Error: {rmse_dt}')\n",
    "print(f'R-squared: {r2_dt}')"
   ]
  },
  {
   "cell_type": "markdown",
   "id": "0b0c0847",
   "metadata": {
    "papermill": {
     "duration": 0.011189,
     "end_time": "2024-06-19T17:02:09.454096",
     "exception": false,
     "start_time": "2024-06-19T17:02:09.442907",
     "status": "completed"
    },
    "tags": []
   },
   "source": [
    "### **2. Random Forest Regressor**"
   ]
  },
  {
   "cell_type": "code",
   "execution_count": 15,
   "id": "412190f0",
   "metadata": {
    "execution": {
     "iopub.execute_input": "2024-06-19T17:02:09.479931Z",
     "iopub.status.busy": "2024-06-19T17:02:09.479493Z",
     "iopub.status.idle": "2024-06-19T17:02:19.814302Z",
     "shell.execute_reply": "2024-06-19T17:02:19.813119Z"
    },
    "papermill": {
     "duration": 10.350672,
     "end_time": "2024-06-19T17:02:19.817026",
     "exception": false,
     "start_time": "2024-06-19T17:02:09.466354",
     "status": "completed"
    },
    "tags": []
   },
   "outputs": [
    {
     "name": "stdout",
     "output_type": "stream",
     "text": [
      "Mean Absolute Error: 1981868.575336507\n",
      "Mean Squared Error: 13666288896405.86\n",
      "Root Mean Squared Error: 3696794.4081874313\n",
      "R-squared: 0.8700791861481453\n"
     ]
    }
   ],
   "source": [
    "from sklearn.ensemble import RandomForestRegressor\n",
    "\n",
    "# Train the RandomForestRegressor model\n",
    "rfr_model = RandomForestRegressor(random_state=42)\n",
    "rfr_model.fit(X_train, y_train)\n",
    "\n",
    "# Predict on the test set\n",
    "y_pred = rfr_model.predict(X_test)\n",
    "\n",
    "# Evaluate the model\n",
    "mae_rfr = mean_absolute_error(y_test, y_pred)\n",
    "mse_rfr = mean_squared_error(y_test, y_pred)\n",
    "rmse_rfr = np.sqrt(mse_rfr)\n",
    "r2_rfr = r2_score(y_test, y_pred)\n",
    "\n",
    "print(f'Mean Absolute Error: {mae_rfr}')\n",
    "print(f'Mean Squared Error: {mse_rfr}')\n",
    "print(f'Root Mean Squared Error: {rmse_rfr}')\n",
    "print(f'R-squared: {r2_rfr}')"
   ]
  },
  {
   "cell_type": "markdown",
   "id": "654639af",
   "metadata": {
    "papermill": {
     "duration": 0.011758,
     "end_time": "2024-06-19T17:02:19.841032",
     "exception": false,
     "start_time": "2024-06-19T17:02:19.829274",
     "status": "completed"
    },
    "tags": []
   },
   "source": [
    "### **3. Gradient Boosting Regressor**"
   ]
  },
  {
   "cell_type": "code",
   "execution_count": 16,
   "id": "392380db",
   "metadata": {
    "execution": {
     "iopub.execute_input": "2024-06-19T17:02:19.866694Z",
     "iopub.status.busy": "2024-06-19T17:02:19.866258Z",
     "iopub.status.idle": "2024-06-19T17:02:22.958472Z",
     "shell.execute_reply": "2024-06-19T17:02:22.957177Z"
    },
    "papermill": {
     "duration": 3.10907,
     "end_time": "2024-06-19T17:02:22.962064",
     "exception": false,
     "start_time": "2024-06-19T17:02:19.852994",
     "status": "completed"
    },
    "tags": []
   },
   "outputs": [
    {
     "name": "stdout",
     "output_type": "stream",
     "text": [
      "Gradient Boosting Regressor Results:\n",
      "Mean Absolute Error: 2814226.585232576\n",
      "Mean Squared Error: 20787104060476.926\n",
      "Root Mean Squared Error: 4559287.67029203\n",
      "R-squared: 0.8023839904430372\n"
     ]
    }
   ],
   "source": [
    "from sklearn.ensemble import GradientBoostingRegressor\n",
    "\n",
    "# Train the GradientBoostingRegressor model\n",
    "gbr_model = GradientBoostingRegressor(random_state=42)\n",
    "gbr_model.fit(X_train, y_train)\n",
    "\n",
    "# Predict on the test set\n",
    "y_pred_gbr = gbr_model.predict(X_test)\n",
    "\n",
    "# Evaluate the model\n",
    "mae_gbr = mean_absolute_error(y_test, y_pred_gbr)\n",
    "mse_gbr = mean_squared_error(y_test, y_pred_gbr)\n",
    "rmse_gbr = np.sqrt(mse_gbr)\n",
    "r2_gbr = r2_score(y_test, y_pred_gbr)\n",
    "\n",
    "print(f'Gradient Boosting Regressor Results:')\n",
    "print(f'Mean Absolute Error: {mae_gbr}')\n",
    "print(f'Mean Squared Error: {mse_gbr}')\n",
    "print(f'Root Mean Squared Error: {rmse_gbr}')\n",
    "print(f'R-squared: {r2_gbr}')"
   ]
  },
  {
   "cell_type": "markdown",
   "id": "d66450e7",
   "metadata": {
    "papermill": {
     "duration": 0.012333,
     "end_time": "2024-06-19T17:02:22.986528",
     "exception": false,
     "start_time": "2024-06-19T17:02:22.974195",
     "status": "completed"
    },
    "tags": []
   },
   "source": [
    "### **4. XGB Regressor**"
   ]
  },
  {
   "cell_type": "code",
   "execution_count": 17,
   "id": "2fb2ee8c",
   "metadata": {
    "execution": {
     "iopub.execute_input": "2024-06-19T17:02:23.012038Z",
     "iopub.status.busy": "2024-06-19T17:02:23.011636Z",
     "iopub.status.idle": "2024-06-19T17:02:23.551624Z",
     "shell.execute_reply": "2024-06-19T17:02:23.550591Z"
    },
    "papermill": {
     "duration": 0.556054,
     "end_time": "2024-06-19T17:02:23.554442",
     "exception": false,
     "start_time": "2024-06-19T17:02:22.998388",
     "status": "completed"
    },
    "tags": []
   },
   "outputs": [
    {
     "name": "stdout",
     "output_type": "stream",
     "text": [
      "XGBoost Regressor Results:\n",
      "Mean Absolute Error: 2118951.06525478\n",
      "Mean Squared Error: 13609313532856.385\n",
      "Root Mean Squared Error: 3689080.309895189\n",
      "R-squared: 0.870620846748352\n"
     ]
    }
   ],
   "source": [
    "import xgboost as xgb\n",
    "\n",
    "# Train the XGBoost Regressor model\n",
    "xgb_model = xgb.XGBRegressor(objective='reg:squarederror', random_state=42)\n",
    "xgb_model.fit(X_train, y_train)\n",
    "\n",
    "# Predict on the test set\n",
    "y_pred_xgb = xgb_model.predict(X_test)\n",
    "\n",
    "# Evaluate the model\n",
    "mae_xgb = mean_absolute_error(y_test, y_pred_xgb)\n",
    "mse_xgb = mean_squared_error(y_test, y_pred_xgb)\n",
    "rmse_xgb = np.sqrt(mse_xgb)\n",
    "r2_xgb = r2_score(y_test, y_pred_xgb)\n",
    "\n",
    "print(f'XGBoost Regressor Results:')\n",
    "print(f'Mean Absolute Error: {mae_xgb}')\n",
    "print(f'Mean Squared Error: {mse_xgb}')\n",
    "print(f'Root Mean Squared Error: {rmse_xgb}')\n",
    "print(f'R-squared: {r2_xgb}')"
   ]
  },
  {
   "cell_type": "markdown",
   "id": "f8f850e3",
   "metadata": {
    "papermill": {
     "duration": 0.011773,
     "end_time": "2024-06-19T17:02:23.579279",
     "exception": false,
     "start_time": "2024-06-19T17:02:23.567506",
     "status": "completed"
    },
    "tags": []
   },
   "source": [
    "# **Testing with Example**"
   ]
  },
  {
   "cell_type": "code",
   "execution_count": 18,
   "id": "a02bc758",
   "metadata": {
    "execution": {
     "iopub.execute_input": "2024-06-19T17:02:23.605711Z",
     "iopub.status.busy": "2024-06-19T17:02:23.605255Z",
     "iopub.status.idle": "2024-06-19T17:02:23.630185Z",
     "shell.execute_reply": "2024-06-19T17:02:23.624428Z"
    },
    "papermill": {
     "duration": 0.04162,
     "end_time": "2024-06-19T17:02:23.633015",
     "exception": false,
     "start_time": "2024-06-19T17:02:23.591395",
     "status": "completed"
    },
    "tags": []
   },
   "outputs": [
    {
     "name": "stdout",
     "output_type": "stream",
     "text": [
      "House Price predicted with Decision Tree Regressor: [6776416]\n",
      "House Price predicted with Random Forest Regressor: [8195333]\n",
      "House Price predicted with Gradient Boost Regressor: [7618618]\n",
      "House Price predicted with XGBoost Regressor: [6776416]\n",
      "--------------------------------------------------------------\n",
      "The actual House Price is: 7000000\n"
     ]
    }
   ],
   "source": [
    "test = X_test.iloc[211].values.reshape(1, -1)\n",
    "\n",
    "# printing predicted fares\n",
    "print(f'House Price predicted with Decision Tree Regressor: {(xgb_model.predict(test)).astype(int)}')\n",
    "print(f'House Price predicted with Random Forest Regressor: {(rfr_model.predict(test)).astype(int)}')\n",
    "print(f'House Price predicted with Gradient Boost Regressor: {(gbr_model.predict(test)).astype(int)}')\n",
    "print(f'House Price predicted with XGBoost Regressor: {(xgb_model.predict(test)).astype(int)}')\n",
    "print('--------------------------------------------------------------')\n",
    "print(f'The actual House Price is: {y_test.iloc[211]}')"
   ]
  },
  {
   "cell_type": "code",
   "execution_count": 19,
   "id": "d26c9a7b",
   "metadata": {
    "execution": {
     "iopub.execute_input": "2024-06-19T17:02:23.659853Z",
     "iopub.status.busy": "2024-06-19T17:02:23.659423Z",
     "iopub.status.idle": "2024-06-19T17:02:23.666148Z",
     "shell.execute_reply": "2024-06-19T17:02:23.664699Z"
    },
    "papermill": {
     "duration": 0.023201,
     "end_time": "2024-06-19T17:02:23.669155",
     "exception": false,
     "start_time": "2024-06-19T17:02:23.645954",
     "status": "completed"
    },
    "tags": []
   },
   "outputs": [
    {
     "name": "stdout",
     "output_type": "stream",
     "text": [
      "The property price in the desired location will range from Rs. 6090000.0 to Rs. 7910000.0\n"
     ]
    }
   ],
   "source": [
    "print(f'The property price in the desired location will range from Rs. {y_test.iloc[211] - 0.13*y_test.iloc[211]} to Rs. {y_test.iloc[211] + 0.13*y_test.iloc[211]}')"
   ]
  },
  {
   "cell_type": "markdown",
   "id": "f9076033",
   "metadata": {
    "papermill": {
     "duration": 0.0119,
     "end_time": "2024-06-19T17:02:23.693372",
     "exception": false,
     "start_time": "2024-06-19T17:02:23.681472",
     "status": "completed"
    },
    "tags": []
   },
   "source": [
    "### **In the context of predicting house prices, a lower prediction accuracy might sometimes be preferable or more realistic when considering practical constraints and the inherent uncertainty in real-world data. We can set a price range instead of pointing out a pin point precise price.**"
   ]
  },
  {
   "cell_type": "markdown",
   "id": "7c82c70b",
   "metadata": {
    "papermill": {
     "duration": 0.01187,
     "end_time": "2024-06-19T17:02:23.718116",
     "exception": false,
     "start_time": "2024-06-19T17:02:23.706246",
     "status": "completed"
    },
    "tags": []
   },
   "source": [
    "# **THANK YOU**\n",
    "---"
   ]
  }
 ],
 "metadata": {
  "kaggle": {
   "accelerator": "none",
   "dataSources": [
    {
     "datasetId": 4172651,
     "sourceId": 7211246,
     "sourceType": "datasetVersion"
    }
   ],
   "dockerImageVersionId": 30732,
   "isGpuEnabled": false,
   "isInternetEnabled": true,
   "language": "python",
   "sourceType": "notebook"
  },
  "kernelspec": {
   "display_name": "Python 3",
   "language": "python",
   "name": "python3"
  },
  "language_info": {
   "codemirror_mode": {
    "name": "ipython",
    "version": 3
   },
   "file_extension": ".py",
   "mimetype": "text/x-python",
   "name": "python",
   "nbconvert_exporter": "python",
   "pygments_lexer": "ipython3",
   "version": "3.12.3"
  },
  "papermill": {
   "default_parameters": {},
   "duration": 22.523921,
   "end_time": "2024-06-19T17:02:24.452166",
   "environment_variables": {},
   "exception": null,
   "input_path": "__notebook__.ipynb",
   "output_path": "__notebook__.ipynb",
   "parameters": {},
   "start_time": "2024-06-19T17:02:01.928245",
   "version": "2.5.0"
  }
 },
 "nbformat": 4,
 "nbformat_minor": 5
}
